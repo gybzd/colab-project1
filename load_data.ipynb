from google.colab import auth
auth.authenticate_user()

!pip install --quiet google-cloud-bigquery
from google.cloud import bigquery

#project_id = "your-gcp-project-id"  # use your GCP project ID
#client = bigquery.Client(project=project_id)

#query = """
#"""
#query_job = client.query(query)
#df = query_job.to_dataframe()
